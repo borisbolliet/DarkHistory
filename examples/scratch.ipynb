{
 "cells": [
  {
   "cell_type": "code",
   "execution_count": 1,
   "metadata": {},
   "outputs": [],
   "source": [
    "%load_ext autoreload\n",
    "import sys\n",
    "sys.path.append(\"..\")"
   ]
  },
  {
   "cell_type": "code",
   "execution_count": 2,
   "metadata": {},
   "outputs": [],
   "source": [
    "%matplotlib inline"
   ]
  },
  {
   "cell_type": "code",
   "execution_count": 35,
   "metadata": {},
   "outputs": [],
   "source": [
    "import matplotlib.pyplot as plt\n",
    "\n",
    "import numpy as np\n",
    "\n",
    "import darkhistory.physics as phys\n",
    "import main\n",
    "# import darkhistory.history.tla as tla\n",
    "from scipy import integrate\n",
    "import scipy.special"
   ]
  },
  {
   "cell_type": "markdown",
   "metadata": {},
   "source": [
    "The following units are being used\n",
    "$$\n",
    "\\begin{alignat}{2}\n",
    "M_0 &= 4 \\pi \\rho_s r_s^3 \\\\\n",
    "t_0 &= (4\\pi G \\rho_s)^{-1/2} \\\\ \n",
    "\\nu_0 &= r_s/t_0 \\\\\n",
    "(\\sigma/m)_0 &= (r_s \\rho_s)^{-1} \\\\\n",
    "L_0 &= (4\\pi)^{5/2}G^{3/2}\\rho_s^{5/2} r_s^5 \\\\\n",
    "C_0 &= (4\\pi G)^{3/2}\\rho_s^{5/2}r_s^2\n",
    "\\end{alignat}\n",
    "$$\n",
    "Do we set $\\rho_s = r_s = 1$?"
   ]
  },
  {
   "cell_type": "code",
   "execution_count": 354,
   "metadata": {},
   "outputs": [],
   "source": [
    "### Constants ###\n",
    "#g to kg (1e-3) to J (c^-2) to eV (e^-1)\n",
    "g_to_eV = 1e-3/phys.c**2/phys.ele\n",
    "G = 1 #Newton's constant\n",
    "\n",
    "#Particle Physics\n",
    "sig_m  = 3/g_to_eV # sigma / m\n",
    "sigp_m = sig_m\n",
    "nu_loss = 13*1e5/phys.c #13 km/s\n",
    "\n",
    "\n",
    "def C(rho,nu):\n",
    "    ratio = np.divide(nu_loss,nu, where=(nu!=0), out=1e3*np.ones_like(nu))**2\n",
    "    return rho**2 * sigp_m * 4*nu*nu_loss**2/np.sqrt(np.pi) * (1+ratio) * np.exp(-ratio)\n",
    "    \n",
    "\n",
    "def kappa_m(rho, nu, beta=0.6):\n",
    "    klmfp_m = 0.27 * beta * rho * nu**3 * sig_m\n",
    "    ksmfp_m = 2.1/sig_m\n",
    "    mask = klmfp_m==0\n",
    "    \n",
    "    k = np.zeros_like(klmfp_m)\n",
    "    k[~mask] = (klmfp_m[~mask]**(-1) + ksmfp_m**(-1))**(-1)\n",
    "    return k\n",
    "\n",
    "def get_L(rho, nu, r):\n",
    "    T_m = nu**2 # T/m\n",
    "    dT_mdr = np.append(np.diff(T_m)/np.diff(r), \n",
    "                       (T_m[-1]-T_m[-2])/(r[-1]-r[-2]))\n",
    "    \n",
    "    return -4*np.pi*r**2 * kappa_m(rho, nu) * dT_mdr\n",
    "    \n",
    "def eta(rho, nu,alpha=4/np.sqrt(np.pi)):\n",
    "    v_bar = np.sqrt(3)*nu\n",
    "    return 1/3 * alpha*sig_m * v_bar * (\n",
    "        alpha*sig_m**2 + 4*np.pi*G/rho/nu**2\n",
    "    )**(-1)\n",
    "\n",
    "def rho_NFW(r):\n",
    "    inv = r * (r+1)**2\n",
    "    return 1/inv\n",
    "\n",
    "def j_init(r, js=1, r_ratio=3,thetas=1):#theta\n",
    "    rtmp = r*r_ratio\n",
    "    return js*(rtmp)**2/(1+rtmp)**4 # * np.sin(theta/thetas)**2\n",
    "\n",
    "def integrated_NFW(r):\n",
    "    return 4*np.pi*(np.log(r+1)-r/(r+1))\n",
    "\n",
    "def nu_init(r,rho=None,M=None,switch=False):\n",
    "    if switch:\n",
    "        if True:\n",
    "            nu = np.zeros_like(r)\n",
    "            grav = M*rho/r**2\n",
    "            # set the pressure at the edge to zero, \n",
    "            # then require that dpdr = -grav\n",
    "\n",
    "            for i in np.arange(len(r)-1):\n",
    "                nu[-2-i] = np.sqrt((grav[-1-i]*(r[-1-i]-r[-2-i]) \n",
    "                                   + rho[-1-i]*nu[-1-i]**2)/rho[-2-i])\n",
    "\n",
    "            return nu\n",
    "        else:\n",
    "            #Initial Condition: at r=0, p=0\n",
    "            nu = np.zeros_like(r)\n",
    "            grav = M*rho/r**2\n",
    "            # set the dispersion at the center to zero\n",
    "            nu[0] = np.sqrt(grav[0]*(r[0]-0)/rho[0])\n",
    "            for i in np.arange(len(r)-1):\n",
    "                nu[i+1] = np.sqrt((rho[i]*nu[i]**2\n",
    "                    -grav[i+1]*(r[i+1]-r[i]))/rho[i+1])\n",
    "\n",
    "            return nu\n",
    "            \n",
    "            \n",
    "    else:\n",
    "        pre = 2/r\n",
    "        term1 = 6 * r**2 * (r+1)**2 * scipy.special.spence(1+r)\n",
    "        term2p1 = 3 * (r+1) * r**2 * np.log(r+1)**2\n",
    "        term2p2 = (r+1) * r**2 * (6*np.log(1/r + 1) + 5*np.log(r))\n",
    "        term2p3 = -np.log(r+1)*(r*(r*(5*r+11)+3)-1)\n",
    "        term3 = r*(r*(np.pi**2*(r+1)**2 - 7*r - 9) - 1)\n",
    "\n",
    "        return np.sqrt(\n",
    "            pre*(term1 + (r+1)*(term2p1+term2p2+term2p3) + term3)\n",
    "        )"
   ]
  },
  {
   "cell_type": "code",
   "execution_count": 306,
   "metadata": {},
   "outputs": [
    {
     "name": "stdout",
     "output_type": "stream",
     "text": [
      "(5.427988771320028, 7.152737876055877e-11) 5.42798877132003\n"
     ]
    }
   ],
   "source": [
    "def rsq_rho_NFW(r):\n",
    "    return 4*np.pi*r**2 * rho_NFW(r)\n",
    "print(integrate.quad(rsq_rho_NFW,0,2),integrated_NFW(2))"
   ]
  },
  {
   "cell_type": "code",
   "execution_count": 348,
   "metadata": {},
   "outputs": [
    {
     "name": "stdout",
     "output_type": "stream",
     "text": [
      "[ 4.89505016e-03  4.32471213e-03  3.82052156e-03  3.37484643e-03\n",
      "  2.98093056e-03  2.63279357e-03  2.32514228e-03  2.05329213e-03\n",
      "  1.81309755e-03  1.60089033e-03  1.41342488e-03  1.24782987e-03\n",
      "  1.10156528e-03  9.72384401e-04  8.58300168e-04  7.57555325e-04\n",
      "  6.68596010e-04  5.90048357e-04  5.20697782e-04  4.59470625e-04\n",
      "  4.05417913e-04  3.57700970e-04  3.15578686e-04  2.78396243e-04\n",
      "  2.45575135e-04  2.16604339e-04  1.91032498e-04  1.68461000e-04\n",
      "  1.48537864e-04  1.30952318e-04  1.15430012e-04  1.01728775e-04\n",
      "  8.96348690e-05  7.89596722e-05  6.95367432e-05  6.12192291e-05\n",
      "  5.38775705e-05  4.73974737e-05  4.16781170e-05  3.66305656e-05\n",
      "  3.21763699e-05  2.82463277e-05  2.47793894e-05  2.17216913e-05\n",
      "  1.90257022e-05  1.66494693e-05  1.45559531e-05  1.27124405e-05\n",
      "  1.10900281e-05  9.66316583e-06  8.40925664e-06  7.30830319e-06\n",
      "  6.34259823e-06  5.49645248e-06  4.75595602e-06  4.10876936e-06\n",
      "  3.54394024e-06  3.05174364e-06  2.62354152e-06  2.25166026e-06\n",
      "  1.92928318e-06  1.65035643e-06  1.40950617e-06  1.20196568e-06\n",
      "  1.02351097e-06  8.70403560e-07  7.39339711e-07  6.27404874e-07\n",
      "  5.32032922e-07  4.50969394e-07  3.82238315e-07  3.24112148e-07\n",
      "  2.75084576e-07  2.33845806e-07  1.99260178e-07  1.70345906e-07\n",
      "  1.46256738e-07  1.26265446e-07  1.09748983e-07  9.61751823e-08\n",
      "  8.50908957e-08  7.61114468e-08  6.89113215e-08  6.32159269e-08\n",
      "  5.87944170e-08  5.54533653e-08  5.30313197e-08  5.13940647e-08\n",
      "  5.04305127e-08  5.00492219e-08  5.01753906e-08  5.07482962e-08\n",
      "  5.17191328e-08  5.30491745e-08  5.47082475e-08  5.66734071e-08\n",
      "  5.89278970e-08  6.14602205e-08  6.42634247e-08  6.73344794e-08\n",
      "  7.06737969e-08  7.42848206e-08  7.81737333e-08  8.23491996e-08\n",
      "  8.68222237e-08  9.16059912e-08  9.67158587e-08  1.02169329e-07\n",
      "  1.07986133e-07  1.14188381e-07  1.20800805e-07  1.27851162e-07\n",
      "  1.35370803e-07  1.43395548e-07  1.51966948e-07  1.61134144e-07\n",
      "  1.70956599e-07  1.81508090e-07  1.92882523e-07  2.05202354e-07\n",
      "  2.18630615e-07  2.33387778e-07  2.49774609e-07  2.68201620e-07\n",
      "  2.89223341e-07  3.13570135e-07  3.42157510e-07  3.76027467e-07\n",
      "  4.16129078e-07  4.62768092e-07  5.14452136e-07  5.65778795e-07\n",
      "  6.04117611e-07  6.05450109e-07  5.31249964e-07  3.30584167e-07\n",
      " -4.71175208e-08 -6.26831735e-07 -1.37937381e-06 -2.21014349e-06\n",
      " -2.98254461e-06 -3.56988227e-06 -3.90641217e-06 -4.01197959e-06\n",
      " -3.99356360e-06 -4.06118760e-06 -4.66433164e-06 -7.76202586e-06\n",
      " -2.39448963e-06]\n"
     ]
    }
   ],
   "source": [
    "#Initialize\n",
    "N = 150\n",
    "r = 10**np.arange(-2,3,5/N)\n",
    "rho = rho_NFW(r)\n",
    "M = integrated_NFW(r)\n",
    "nu = nu_init(r, rho, M, switch=True)\n",
    "# print(nu)\n",
    "\n",
    "L = get_L(rho, nu, r)\n",
    "u = 3*nu**2/2\n",
    "du_dt = (\n",
    "    np.append(np.diff(L)/np.diff(M), (L[-1]-L[-2])/(M[-1]-M[-2]))\n",
    "    + C(rho,nu)/rho\n",
    ")\n",
    "\n",
    "# print(np.diff(rho*nu**2)/np.diff(r)/(M*rho/r**2)[1:]+1)\n",
    "\n",
    "mask = (u!=0)\n",
    "dt = np.min(np.abs(u[mask]/du_dt[mask])*1e-3)\n",
    "du = du_dt*dt\n",
    "\n",
    "nu_p =  np.sqrt(2/3*(u - du))\n",
    "print(np.diff(rho*nu_p**2)/np.diff(r)/(M*rho/r**2)[1:]+1)"
   ]
  },
  {
   "cell_type": "code",
   "execution_count": 349,
   "metadata": {
    "collapsed": true
   },
   "outputs": [
    {
     "name": "stderr",
     "output_type": "stream",
     "text": [
      "/usr/local/Cellar/ipython/7.8.0/libexec/vendor/lib/python3.7/site-packages/ipykernel_launcher.py:1: RuntimeWarning: divide by zero encountered in true_divide\n",
      "  \"\"\"Entry point for launching an IPython kernel.\n"
     ]
    },
    {
     "data": {
      "text/plain": [
       "array([-5.00125063e-04, -4.50311653e-04, -4.05502691e-04, -3.65189990e-04,\n",
       "       -3.28917455e-04, -2.96275701e-04, -2.66897228e-04, -2.40452101e-04,\n",
       "       -2.16644081e-04, -1.95207155e-04, -1.75902424e-04, -1.58515320e-04,\n",
       "       -1.42853103e-04, -1.28742626e-04, -1.16028322e-04, -1.04570407e-04,\n",
       "       -9.42432618e-05, -8.49339851e-05, -7.65410944e-05, -6.89733604e-05,\n",
       "       -6.21487611e-05, -5.59935438e-05, -5.04413837e-05, -4.54326280e-05,\n",
       "       -4.09136183e-05, -3.68360821e-05, -3.31565861e-05, -2.98360462e-05,\n",
       "       -2.68392866e-05, -2.41346448e-05, -2.16936160e-05, -1.94905342e-05,\n",
       "       -1.75022853e-05, -1.57080495e-05, -1.40890697e-05, -1.26284436e-05,\n",
       "       -1.13109362e-05, -1.01228117e-05, -9.05168204e-06, -8.08637109e-06,\n",
       "       -7.21679184e-06, -6.43383653e-06, -5.72927752e-06, -5.09567826e-06,\n",
       "       -4.52631323e-06, -4.01509605e-06, -3.55651487e-06, -3.14557443e-06,\n",
       "       -2.77774416e-06, -2.44891163e-06, -2.15534106e-06, -1.89363616e-06,\n",
       "       -1.66070706e-06, -1.45374092e-06, -1.27017573e-06, -1.10767708e-06,\n",
       "       -9.64117595e-07, -8.37558601e-07, -7.26233911e-07, -6.28535364e-07,\n",
       "       -5.42999914e-07, -4.68298054e-07, -4.03223369e-07, -3.46683050e-07,\n",
       "       -2.97689206e-07, -2.55350854e-07, -2.18866477e-07, -1.87517054e-07,\n",
       "       -1.60659512e-07, -1.37720533e-07, -1.18190692e-07, -1.01618904e-07,\n",
       "       -8.76071667e-08, -7.58055849e-08, -6.59076949e-08, -5.76460729e-08,\n",
       "       -5.07882394e-08, -4.51328566e-08, -4.05062213e-08, -3.67590471e-08,\n",
       "       -3.37635326e-08, -3.14107054e-08, -2.96080307e-08, -2.82772723e-08,\n",
       "       -2.73525909e-08, -2.67788592e-08, -2.65101858e-08, -2.65086190e-08,\n",
       "       -2.67430221e-08, -2.71881010e-08, -2.78235653e-08, -2.86334108e-08,\n",
       "       -2.96053079e-08, -3.07300843e-08, -3.20012876e-08, -3.34148194e-08,\n",
       "       -3.49686315e-08, -3.66624739e-08, -3.84976887e-08, -4.04770421e-08,\n",
       "       -4.26045905e-08, -4.48855731e-08, -4.73263277e-08, -4.99342242e-08,\n",
       "       -5.27176118e-08, -5.56857719e-08, -5.88488758e-08, -6.22179310e-08,\n",
       "       -6.58047115e-08, -6.96216487e-08, -7.36816651e-08, -7.79979060e-08,\n",
       "       -8.25833200e-08, -8.74500006e-08, -9.26081650e-08, -9.80645801e-08,\n",
       "       -1.03820148e-07, -1.09866231e-07, -1.16179061e-07, -1.22711304e-07,\n",
       "       -1.29379357e-07, -1.36044322e-07, -1.42483701e-07, -1.48349609e-07,\n",
       "       -1.53107760e-07, -1.55949769e-07, -1.55669865e-07, -1.50497263e-07,\n",
       "       -1.37879806e-07, -1.14228057e-07, -7.46601960e-08, -1.28472303e-08,\n",
       "        7.88483003e-08,  2.08636253e-07,  3.83610774e-07,  6.06935459e-07,\n",
       "        8.74352738e-07,  1.17153921e-06,  1.47470449e-06,  1.75624164e-06,\n",
       "        1.99452533e-06,  2.18377290e-06,  2.33946814e-06,  2.49831517e-06,\n",
       "        2.71632397e-06,  3.07137143e-06,  3.67764834e-06,  4.71131813e-06,\n",
       "        5.82499824e-06,             inf])"
      ]
     },
     "execution_count": 349,
     "metadata": {},
     "output_type": "execute_result"
    }
   ],
   "source": [
    "nu_p/nu-1"
   ]
  },
  {
   "cell_type": "code",
   "execution_count": 363,
   "metadata": {},
   "outputs": [
    {
     "data": {
      "image/png": "[encoded data removed]",
      "text/plain": [
       "<Figure size 1080x360 with 3 Axes>"
      ]
     },
     "metadata": {
      "needs_background": "light"
     },
     "output_type": "display_data"
    }
   ],
   "source": [
    "fig, axarr = plt.subplots(1, 3, figsize=(15,5))\n",
    "\n",
    "axarr[0].loglog()\n",
    "axarr[0].plot(r,rho_NFW(r))\n",
    "axarr[0].set_xlabel(r'Radius, $r/r_s$')\n",
    "axarr[0].set_ylabel(r'Density, $\\rho/\\rho_s$')\n",
    "axarr[0].set_title('Initial NFW Density')\n",
    "\n",
    "axarr[1].loglog()\n",
    "axarr[1].plot(r,nu, label='numerical')\n",
    "axarr[1].plot(r,nu_init(r,switch=False)*np.sqrt(3), label='analytic')\n",
    "axarr[1].set_xlabel(r'Radius, $r/r_s$')\n",
    "axarr[1].set_ylabel(r'Velocity Dispersion, $\\nu/\\nu_0$')\n",
    "axarr[1].set_title('Numerical vs. Analytic')\n",
    "axarr[1].legend()\n",
    "\n",
    "axarr[2].loglog()\n",
    "axarr[2].plot(r,j_init(r))\n",
    "axarr[2].set_xlabel(r'Radius, $r/r_s$')\n",
    "axarr[2].set_ylabel(r'Angular Momentum, $j/j_s$')\n",
    "axarr[2].set_title('Initial $L_z$ Distribution, z=0', fontsize=20)\n",
    "\n",
    "plt.subplots_adjust(#top=0.92, bottom=0.08, left=0.10, right=0.95, hspace=0.25,\n",
    "                    wspace=0.3)"
   ]
  },
  {
   "cell_type": "code",
   "execution_count": 339,
   "metadata": {},
   "outputs": [
    {
     "name": "stdout",
     "output_type": "stream",
     "text": [
      "[-1.93267624e-12  4.54747351e-13 -1.13686838e-13  1.70530257e-13\n",
      " -1.13686838e-12 -5.11590770e-13 -1.13686838e-13  0.00000000e+00\n",
      "  2.38742359e-12 -9.09494702e-13  2.30215846e-12  3.97903932e-13\n",
      "  2.01794137e-12  1.19371180e-12  5.68434189e-13 -4.54747351e-13\n",
      " -2.27373675e-13 -7.67386155e-13 -2.55795385e-13 -2.27373675e-13\n",
      "  6.39488462e-13  5.40012479e-13 -2.27373675e-13 -1.27897692e-13\n",
      "  4.26325641e-13 -1.13686838e-13  0.00000000e+00 -3.05533376e-13\n",
      " -1.84741111e-13 -5.68434189e-14  3.55271368e-14  3.55271368e-14\n",
      " -9.23705556e-14 -1.31450406e-13  8.52651283e-14  3.55271368e-14\n",
      "  4.97379915e-14 -4.61852778e-14 -2.13162821e-14 -2.13162821e-14\n",
      "  3.55271368e-15  3.01980663e-14 -3.55271368e-15  5.32907052e-15\n",
      "  1.77635684e-15  4.44089210e-15 -7.99360578e-15 -3.55271368e-15\n",
      " -7.99360578e-15 -8.43769499e-15  3.10862447e-15  1.33226763e-15\n",
      "  4.44089210e-16  2.44249065e-15 -1.77635684e-15 -1.77635684e-15\n",
      "  1.99840144e-15  2.22044605e-15 -9.99200722e-16  7.77156117e-16\n",
      " -5.55111512e-17 -1.66533454e-16  1.11022302e-16  1.66533454e-16\n",
      " -2.77555756e-17  1.38777878e-16 -2.77555756e-17 -2.77555756e-17\n",
      " -1.38777878e-17 -3.46944695e-17  3.46944695e-17  0.00000000e+00\n",
      "  2.77555756e-17  3.46944695e-18 -5.20417043e-18 -1.73472348e-17\n",
      "  8.67361738e-18 -8.67361738e-19  0.00000000e+00  0.00000000e+00\n",
      "  1.73472348e-18 -1.30104261e-18  1.30104261e-18  2.16840434e-19\n",
      " -1.08420217e-19  5.42101086e-19 -2.71050543e-19  1.62630326e-19\n",
      "  2.43945489e-19  8.13151629e-20  0.00000000e+00  6.77626358e-20\n",
      "  6.77626358e-21 -1.35525272e-20  1.01643954e-20 -1.35525272e-20\n",
      "  1.35525272e-20 -3.38813179e-21 -6.77626358e-21 -1.69406589e-21\n",
      " -3.81164826e-21  4.23516474e-22  1.69406589e-21 -1.05879118e-21\n",
      "  0.00000000e+00 -5.29395592e-22  1.05879118e-22  1.58818678e-22\n",
      "  1.85288457e-22  5.29395592e-23  3.97046694e-23 -1.32348898e-23\n",
      "  5.29395592e-23 -6.61744490e-24  1.32348898e-23  9.92616735e-24\n",
      "  0.00000000e+00  0.00000000e+00  1.65436123e-24 -2.48154184e-24\n",
      "  0.00000000e+00 -8.27180613e-25  6.20385459e-25 -1.44756607e-24\n",
      " -3.10192730e-25  0.00000000e+00  0.00000000e+00 -1.55096365e-25\n",
      "  2.58493941e-26 -7.75481824e-26  0.00000000e+00  6.46234854e-27\n",
      " -1.93870456e-26 -3.23117427e-27 -9.69352280e-27 -8.07793567e-27\n",
      "  0.00000000e+00  4.03896783e-27  8.07793567e-28 -1.61558713e-27\n",
      "  4.03896783e-28  4.03896783e-28 -4.03896783e-28  4.03896783e-28\n",
      "  0.00000000e+00  0.00000000e+00  2.52435490e-29 -2.52435490e-29\n",
      "  1.26217745e-29]\n"
     ]
    }
   ],
   "source": [
    "dpdr=np.diff(rho*nu**2)/np.diff(r)\n",
    "# dpdr\n",
    "print(dpdr+\n",
    "(M*rho/r**2)[1:])\n",
    "# dpdr + (M*rho/r**2)[:-1]"
   ]
  },
  {
   "cell_type": "markdown",
   "metadata": {},
   "source": [
    "# Something Else"
   ]
  },
  {
   "cell_type": "code",
   "execution_count": 61,
   "metadata": {
    "collapsed": true
   },
   "outputs": [
    {
     "data": {
      "application/vnd.jupyter.widget-view+json": {
       "model_id": "2e9673d69eb24c049d6309fb9b1939d8",
       "version_major": 2,
       "version_minor": 0
      },
      "text/plain": [
       "HBox(children=(IntProgress(value=0, max=552), HTML(value='')))"
      ]
     },
     "metadata": {},
     "output_type": "display_data"
    },
    {
     "name": "stdout",
     "output_type": "stream",
     "text": [
      "1 1 1 [False  True]\n",
      "0 0 0 [ True  True]\n"
     ]
    },
    {
     "ename": "IndexError",
     "evalue": "index -1 is out of bounds for axis 0 with size 0",
     "output_type": "error",
     "traceback": [
      "\u001b[0;31m---------------------------------------------------------------------------\u001b[0m",
      "\u001b[0;31mIndexError\u001b[0m                                Traceback (most recent call last)",
      "\u001b[0;32m<ipython-input-61-2a947ca1bce2>\u001b[0m in \u001b[0;36m<module>\u001b[0;34m\u001b[0m\n\u001b[1;32m     26\u001b[0m     \u001b[0mDM_process\u001b[0m\u001b[0;34m=\u001b[0m\u001b[0;34m'decay'\u001b[0m\u001b[0;34m,\u001b[0m \u001b[0mmDM\u001b[0m\u001b[0;34m=\u001b[0m\u001b[0;36m2e4\u001b[0m\u001b[0;34m,\u001b[0m \u001b[0mlifetime\u001b[0m\u001b[0;34m=\u001b[0m\u001b[0;36m1e24\u001b[0m\u001b[0;34m,\u001b[0m \u001b[0mprimary\u001b[0m\u001b[0;34m=\u001b[0m\u001b[0;34m'phot_delta'\u001b[0m\u001b[0;34m,\u001b[0m\u001b[0;34m\u001b[0m\u001b[0;34m\u001b[0m\u001b[0m\n\u001b[1;32m     27\u001b[0m     \u001b[0mreion_switch\u001b[0m \u001b[0;34m=\u001b[0m \u001b[0;32mTrue\u001b[0m\u001b[0;34m,\u001b[0m \u001b[0mreion_rs\u001b[0m \u001b[0;34m=\u001b[0m \u001b[0;36m7\u001b[0m\u001b[0;34m,\u001b[0m \u001b[0mxe_reion_func\u001b[0m\u001b[0;34m=\u001b[0m\u001b[0mfunc\u001b[0m\u001b[0;34m,\u001b[0m\u001b[0;34m\u001b[0m\u001b[0;34m\u001b[0m\u001b[0m\n\u001b[0;32m---> 28\u001b[0;31m     \u001b[0mbackreaction\u001b[0m\u001b[0;34m=\u001b[0m\u001b[0;32mFalse\u001b[0m\u001b[0;34m,\u001b[0m \u001b[0mcompute_fs_method\u001b[0m\u001b[0;34m=\u001b[0m\u001b[0;34m'He'\u001b[0m\u001b[0;34m\u001b[0m\u001b[0;34m\u001b[0m\u001b[0m\n\u001b[0m\u001b[1;32m     29\u001b[0m )\n",
      "\u001b[0;32m~/GitHub/DarkHistory/main.py\u001b[0m in \u001b[0;36mevolve\u001b[0;34m(in_spec_elec, in_spec_phot, rate_func_N, rate_func_eng, DM_process, mDM, sigmav, lifetime, primary, struct_boost, start_rs, end_rs, helium_TLA, reion_switch, reion_rs, photoion_rate_func, photoheat_rate_func, xe_reion_func, init_cond, coarsen_factor, backreaction, compute_fs_method, mxstep, rtol, use_tqdm, cross_check)\u001b[0m\n\u001b[1;32m    580\u001b[0m             \u001b[0mphotoheat_rate_func\u001b[0m\u001b[0;34m=\u001b[0m\u001b[0mphotoheat_rate_func\u001b[0m\u001b[0;34m,\u001b[0m\u001b[0;34m\u001b[0m\u001b[0;34m\u001b[0m\u001b[0m\n\u001b[1;32m    581\u001b[0m             \u001b[0mxe_reion_func\u001b[0m\u001b[0;34m=\u001b[0m\u001b[0mxe_reion_func\u001b[0m\u001b[0;34m,\u001b[0m \u001b[0mhelium_TLA\u001b[0m\u001b[0;34m=\u001b[0m\u001b[0mhelium_TLA\u001b[0m\u001b[0;34m,\u001b[0m\u001b[0;34m\u001b[0m\u001b[0;34m\u001b[0m\u001b[0m\n\u001b[0;32m--> 582\u001b[0;31m             \u001b[0mf_He_ion\u001b[0m\u001b[0;34m=\u001b[0m\u001b[0mf_He_ion\u001b[0m\u001b[0;34m,\u001b[0m \u001b[0mmxstep\u001b[0m\u001b[0;34m=\u001b[0m\u001b[0mmxstep\u001b[0m\u001b[0;34m,\u001b[0m \u001b[0mrtol\u001b[0m\u001b[0;34m=\u001b[0m\u001b[0mrtol\u001b[0m\u001b[0;34m\u001b[0m\u001b[0;34m\u001b[0m\u001b[0m\n\u001b[0m\u001b[1;32m    583\u001b[0m         )\n\u001b[1;32m    584\u001b[0m \u001b[0;34m\u001b[0m\u001b[0m\n",
      "\u001b[0;32m~/GitHub/DarkHistory/darkhistory/history/tla.py\u001b[0m in \u001b[0;36mget_history\u001b[0;34m(rs_vec, init_cond, baseline_f, inj_particle, f_H_ion, f_H_exc, f_heating, DM_process, mDM, sigmav, lifetime, struct_boost, injection_rate, reion_switch, reion_rs, photoion_rate_func, photoheat_rate_func, xe_reion_func, helium_TLA, f_He_ion, mxstep, rtol)\u001b[0m\n\u001b[1;32m    723\u001b[0m             \u001b[0;31m# Append the last redshift before reionization model.\u001b[0m\u001b[0;34m\u001b[0m\u001b[0;34m\u001b[0m\u001b[0;34m\u001b[0m\u001b[0m\n\u001b[1;32m    724\u001b[0m             rs_above_std_xe_vec = np.insert(\n\u001b[0;32m--> 725\u001b[0;31m                 \u001b[0mrs_above_std_xe_vec\u001b[0m\u001b[0;34m,\u001b[0m \u001b[0;36m0\u001b[0m\u001b[0;34m,\u001b[0m \u001b[0mrs_below_std_xe_vec\u001b[0m\u001b[0;34m[\u001b[0m\u001b[0;34m-\u001b[0m\u001b[0;36m1\u001b[0m\u001b[0;34m]\u001b[0m\u001b[0;34m\u001b[0m\u001b[0;34m\u001b[0m\u001b[0m\n\u001b[0m\u001b[1;32m    726\u001b[0m             )\n\u001b[1;32m    727\u001b[0m \u001b[0;34m\u001b[0m\u001b[0m\n",
      "\u001b[0;31mIndexError\u001b[0m: index -1 is out of bounds for axis 0 with size 0"
     ]
    }
   ],
   "source": [
    "%autoreload\n",
    "\n",
    "rs_vec = np.flipud(np.arange(5, 3000, 1))\n",
    "\n",
    "def func(rs):\n",
    "    \n",
    "    if isinstance(rs, np.ndarray):\n",
    "    \n",
    "        xe_to_return = np.zeros_like(rs)\n",
    "        xe_to_return[np.where(rs < 7)] = 1\n",
    "\n",
    "        return xe_to_return\n",
    "    \n",
    "    else:\n",
    "        \n",
    "        if rs > 7:\n",
    "            \n",
    "            return 0\n",
    "        \n",
    "        else:\n",
    "            \n",
    "            return 1.\n",
    "\n",
    "test2 = main.evolve(\n",
    "    start_rs=3000, coarsen_factor=12,\n",
    "    DM_process='decay', mDM=2e4, lifetime=1e24, primary='phot_delta',\n",
    "    reion_switch = True, reion_rs = 7, xe_reion_func=func,\n",
    "    backreaction=False, compute_fs_method='He'\n",
    ")"
   ]
  },
  {
   "cell_type": "code",
   "execution_count": 51,
   "metadata": {},
   "outputs": [
    {
     "data": {
      "text/plain": [
       "[<matplotlib.lines.Line2D at 0x181dc76908>]"
      ]
     },
     "execution_count": 51,
     "metadata": {},
     "output_type": "execute_result"
    },
    {
     "data": {
      "image/png": "[encoded data removed]",
      "text/plain": [
       "<Figure size 432x288 with 1 Axes>"
      ]
     },
     "metadata": {
      "needs_background": "light"
     },
     "output_type": "display_data"
    }
   ],
   "source": [
    "plt.figure()\n",
    "\n",
    "plt.loglog()\n",
    "\n",
    "plt.plot(rs_vec, test2[:,0]/phys.kB)"
   ]
  },
  {
   "cell_type": "code",
   "execution_count": 53,
   "metadata": {},
   "outputs": [],
   "source": [
    "?main.evolve"
   ]
  },
  {
   "cell_type": "code",
   "execution_count": 24,
   "metadata": {},
   "outputs": [
    {
     "data": {
      "text/plain": [
       "array([[7.04232739e-01, 9.99999999e-01, 9.99998695e-13, 9.99998695e-13],\n",
       "       [7.04126271e-01, 9.99999999e-01, 9.99998695e-13, 9.99998695e-13],\n",
       "       [7.03891275e-01, 9.99999999e-01, 9.99998695e-13, 9.99998695e-13],\n",
       "       ...,\n",
       "       [9.04744350e-05, 1.90694083e-04, 9.99998695e-13, 9.99998695e-13],\n",
       "       [6.65100843e-05, 1.88570323e-04, 9.99998695e-13, 9.99998695e-13],\n",
       "       [4.62064135e-05, 1.86229989e-04, 9.99998695e-13, 9.99998695e-13]])"
      ]
     },
     "execution_count": 24,
     "metadata": {},
     "output_type": "execute_result"
    }
   ],
   "source": [
    "test"
   ]
  },
  {
   "cell_type": "code",
   "execution_count": null,
   "metadata": {},
   "outputs": [],
   "source": []
  }
 ],
 "metadata": {
  "kernelspec": {
   "display_name": "Python 3",
   "language": "python",
   "name": "python3"
  },
  "language_info": {
   "codemirror_mode": {
    "name": "ipython",
    "version": 3
   },
   "file_extension": ".py",
   "mimetype": "text/x-python",
   "name": "python",
   "nbconvert_exporter": "python",
   "pygments_lexer": "ipython3",
   "version": "3.7.5"
  },
  "toc": {
   "base_numbering": 1,
   "nav_menu": {},
   "number_sections": true,
   "sideBar": true,
   "skip_h1_title": false,
   "title_cell": "Table of Contents",
   "title_sidebar": "Contents",
   "toc_cell": false,
   "toc_position": {},
   "toc_section_display": true,
   "toc_window_display": false
  }
 },
 "nbformat": 4,
 "nbformat_minor": 2
}

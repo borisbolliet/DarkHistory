{
 "cells": [
  {
   "cell_type": "code",
   "execution_count": 1,
   "metadata": {},
   "outputs": [],
   "source": [
    "%load_ext autoreload\n",
    "import sys\n",
    "sys.path.append(\"..\")"
   ]
  },
  {
   "cell_type": "code",
   "execution_count": 2,
   "metadata": {},
   "outputs": [],
   "source": [
    "%matplotlib inline"
   ]
  },
  {
   "cell_type": "code",
   "execution_count": 35,
   "metadata": {},
   "outputs": [],
   "source": [
    "import matplotlib.pyplot as plt\n",
    "\n",
    "import numpy as np\n",
    "\n",
    "import darkhistory.physics as phys\n",
    "import main\n",
    "# import darkhistory.history.tla as tla\n",
    "from scipy import integrate\n",
    "import scipy.special"
   ]
  },
  {
   "cell_type": "markdown",
   "metadata": {},
   "source": [
    "The following units are being used\n",
    "$$\n",
    "\\begin{alignat}{2}\n",
    "M_0 &= 4 \\pi \\rho_s r_s^3 \\\\\n",
    "t_0 &= (4\\pi G \\rho_s)^{-1/2} \\\\ \n",
    "\\nu_0 &= r_s/t_0 \\\\\n",
    "(\\sigma/m)_0 &= (r_s \\rho_s)^{-1} \\\\\n",
    "L_0 &= (4\\pi)^{5/2}G^{3/2}\\rho_s^{5/2} r_s^5 \\\\\n",
    "C_0 &= (4\\pi G)^{3/2}\\rho_s^{5/2}r_s^2\n",
    "\\end{alignat}\n",
    "$$\n",
    "For now, set $\\rho_s = r_s = 1$."
   ]
  },
  {
   "cell_type": "markdown",
   "metadata": {},
   "source": [
    "Microphysics"
   ]
  },
  {
   "cell_type": "code",
   "execution_count": 404,
   "metadata": {},
   "outputs": [],
   "source": [
    "### Constants ###\n",
    "#g to kg (1e-3) to J (c^-2) to eV (e^-1)\n",
    "g_to_eV = 1e-3/phys.c**2/phys.ele\n",
    "G = 1 #Newton's constant\n",
    "\n",
    "#Particle Physics\n",
    "sig_m  = 3/g_to_eV # sigma / m\n",
    "sigp_m = sig_m\n",
    "nu_loss = 13*1e5/phys.c #13 km/s\n",
    "\n",
    "\n",
    "def C(rho,nu):\n",
    "    ratio = np.divide(nu_loss,nu, where=(nu!=0), out=1e3*np.ones_like(nu))**2\n",
    "    return rho**2 * sigp_m * 4*nu*nu_loss**2/np.sqrt(np.pi) * (1+ratio) * np.exp(-ratio)\n",
    "    \n",
    "\n",
    "def kappa_m(rho, nu, beta=0.6):\n",
    "    klmfp_m = 0.27 * beta * rho * nu**3 * sig_m\n",
    "    ksmfp_m = 2.1/sig_m\n",
    "    mask = klmfp_m==0\n",
    "    \n",
    "    k = np.zeros_like(klmfp_m)\n",
    "    k[~mask] = (klmfp_m[~mask]**(-1) + ksmfp_m**(-1))**(-1)\n",
    "    return k\n",
    "\n",
    "def get_L(rho, nu, r):\n",
    "    T_m = nu**2 # T/m\n",
    "    dT_mdr = np.append(np.diff(T_m)/np.diff(r), \n",
    "                       (T_m[-1]-T_m[-2])/(r[-1]-r[-2]))\n",
    "    \n",
    "    return -4*np.pi*r**2 * kappa_m(rho, nu) * dT_mdr\n",
    "    \n",
    "def eta(rho, nu,alpha=4/np.sqrt(np.pi)):\n",
    "    v_bar = np.sqrt(3)*nu\n",
    "    return 1/3 * alpha*sig_m * v_bar * (\n",
    "        alpha*sig_m**2 + 4*np.pi*G/rho/nu**2\n",
    "    )**(-1)"
   ]
  },
  {
   "cell_type": "markdown",
   "metadata": {},
   "source": [
    "Initial Conditions"
   ]
  },
  {
   "cell_type": "code",
   "execution_count": 591,
   "metadata": {},
   "outputs": [],
   "source": [
    "def rho_NFW(r):\n",
    "    inv = r * (r+1)**2\n",
    "    return 1/inv\n",
    "\n",
    "def j_init(r, js=1, r_ratio=3,thetas=1):#theta\n",
    "    rtmp = r*r_ratio\n",
    "    return js*(rtmp)**2/(1+rtmp)**4 # * np.sin(theta/thetas)**2\n",
    "\n",
    "def integrated_NFW(r):\n",
    "    return np.log(r+1)-r/(r+1)\n",
    "\n",
    "def nu_NFW(r):\n",
    "        pre = 0.5/r\n",
    "        term1 = 6 * r**2 * (r+1)**2 * scipy.special.spence(1+r)\n",
    "        term2p1 = 3 * (r+1) * r**2 * np.log(r+1)**2\n",
    "        term2p2 = (r+1) * r**2 * (6*np.log(1/r + 1) + 5*np.log(r))\n",
    "        term2p3 = -np.log(r+1)*(r*(r*(5*r+11)+3)-1)\n",
    "        term3 = r*(r*(np.pi**2*(r+1)**2 - 7*r - 9) - 1)\n",
    "\n",
    "        return np.sqrt(\n",
    "            pre*(term1 + (r+1)*(term2p1+term2p2+term2p3) + term3)\n",
    "        )\n",
    "\n",
    "def nu_init(r,rho=None,M=None,switch=False):\n",
    "    if switch:\n",
    "        if True:\n",
    "#             nu = np.zeros_like(r)\n",
    "            nu = nu_NFW(r)\n",
    "            grav = M*rho/r**2\n",
    "            # set the pressure at the edge to zero, \n",
    "            # then require that dpdr = -grav\n",
    "\n",
    "            for i in np.arange(len(r)-1):\n",
    "                nu[-2-i] = np.sqrt((grav[-2-i]*(r[-1-i]-r[-2-i]) \n",
    "                                   + rho[-1-i]*nu[-1-i]**2)/rho[-2-i])\n",
    "\n",
    "            return nu\n",
    "        else:\n",
    "            #Initial Condition: at r=0, p=0\n",
    "            nu = np.zeros_like(r)\n",
    "            grav = M*rho/r**2\n",
    "            nu[0] = nu_NFW(r[0]) #Initialize\n",
    "            \n",
    "            for i in np.arange(len(r)-1):\n",
    "                nu[i+1] = np.sqrt((-grav[i]*(r[i+1]-r[i]) \n",
    "                                   + rho[i]*nu[i]**2)/rho[i+1])\n",
    "#                 dr = (r[i+1]-r[i])\n",
    "#                 dlnrho_dr = (rho[i+1]-rho[i])/dr\n",
    "#                 nu[i+1] = np.sqrt(\n",
    "#                     (-dlnrho_dr*nu[i]**2 - grav[i+1])/rho[i+1]*dr\n",
    "#                 )\n",
    "\n",
    "            return nu\n",
    "    else:\n",
    "        return nu_NFW(r)"
   ]
  },
  {
   "cell_type": "code",
   "execution_count": 592,
   "metadata": {},
   "outputs": [
    {
     "name": "stdout",
     "output_type": "stream",
     "text": [
      "(0.431945622001443, 5.691978522307761e-12) 0.43194562200144315\n"
     ]
    }
   ],
   "source": [
    "def rsq_rho_NFW(r):\n",
    "    return r**2 * rho_NFW(r)\n",
    "print(integrate.quad(rsq_rho_NFW,0,2),integrated_NFW(2))"
   ]
  },
  {
   "cell_type": "code",
   "execution_count": 593,
   "metadata": {},
   "outputs": [],
   "source": [
    "#Initialize\n",
    "N = 150\n",
    "r = 10**np.arange(-2,3,5/N)\n",
    "rho = rho_NFW(r)\n",
    "M = integrated_NFW(r)\n",
    "nu = nu_init(r, rho, M, switch=True)\n",
    "\n",
    "p=rho*nu**2\n",
    "\n",
    "# print(nu)\n",
    "\n",
    "L = get_L(rho, nu, r)\n",
    "u = 3*nu**2/2\n",
    "du_dt = (\n",
    "    np.append(np.diff(L)/np.diff(M), (L[-1]-L[-2])/(M[-1]-M[-2]))\n",
    "    + C(rho,nu)/rho\n",
    ")\n",
    "\n",
    "# print(np.diff(rho*nu**2)/np.diff(r)/(M*rho/r**2)[1:]+1)\n",
    "\n",
    "mask = (u!=0)\n",
    "dt = np.min(np.abs(u[mask]/du_dt[mask])*0.5*1e-2)\n",
    "du = du_dt*dt\n",
    "\n",
    "nu_p =  np.sqrt(2/3*(u - du))\n",
    "# print(np.diff(rho*nu_p**2)/np.diff(r)/(M*rho/r**2)[1:]+1)"
   ]
  },
  {
   "cell_type": "code",
   "execution_count": 594,
   "metadata": {
    "collapsed": true
   },
   "outputs": [
    {
     "data": {
      "text/plain": [
       "array([ 2.13162821e-13,  1.70530257e-13, -5.25801624e-13, -3.90798505e-13,\n",
       "        3.55271368e-14, -2.13162821e-14, -4.97379915e-14,  1.77635684e-14,\n",
       "       -7.81597009e-14, -5.68434189e-14,  7.81597009e-14,  1.24344979e-13,\n",
       "        3.90798505e-14, -3.19744231e-14,  3.01980663e-14,  1.42108547e-14,\n",
       "       -8.70414851e-14, -3.37507799e-14,  0.00000000e+00,  0.00000000e+00,\n",
       "        1.06581410e-14,  5.32907052e-15,  0.00000000e+00,  2.66453526e-15,\n",
       "       -4.44089210e-15,  4.44089210e-15, -1.95399252e-14,  4.44089210e-15,\n",
       "        7.99360578e-15,  7.10542736e-15,  1.77635684e-15, -1.33226763e-14,\n",
       "       -3.10862447e-15,  7.54951657e-15,  1.77635684e-15, -8.88178420e-16,\n",
       "       -1.99840144e-15, -4.44089210e-16,  1.55431223e-15, -2.88657986e-15,\n",
       "        4.21884749e-15, -1.55431223e-15,  2.77555756e-15, -4.44089210e-16,\n",
       "       -1.33226763e-15,  6.66133815e-16, -3.33066907e-16,  6.66133815e-16,\n",
       "        3.88578059e-16, -4.44089210e-16,  2.77555756e-16,  0.00000000e+00,\n",
       "        2.77555756e-17,  1.38777878e-16,  5.55111512e-17,  0.00000000e+00,\n",
       "        9.71445147e-17, -8.32667268e-17,  4.16333634e-17, -3.46944695e-17,\n",
       "       -3.46944695e-17,  1.38777878e-17,  1.38777878e-17, -2.08166817e-17,\n",
       "        6.93889390e-18, -1.38777878e-17, -1.21430643e-17,  5.20417043e-18,\n",
       "        4.33680869e-18, -2.60208521e-18,  2.60208521e-18, -1.30104261e-18,\n",
       "        4.33680869e-19,  4.33680869e-19,  1.30104261e-18, -2.16840434e-19,\n",
       "       -4.33680869e-19,  3.25260652e-19,  1.08420217e-19,  3.25260652e-19,\n",
       "        3.79470760e-19,  2.71050543e-20, -8.13151629e-20,  2.71050543e-20,\n",
       "        1.35525272e-19,  0.00000000e+00, -1.35525272e-20,  1.35525272e-20,\n",
       "        2.71050543e-20,  3.38813179e-21, -1.69406589e-21, -1.69406589e-21,\n",
       "       -1.69406589e-21,  0.00000000e+00,  3.81164826e-21,  1.69406589e-21,\n",
       "        1.48230766e-21, -4.23516474e-22,  0.00000000e+00, -1.05879118e-22,\n",
       "        5.29395592e-23,  0.00000000e+00, -5.29395592e-23,  1.32348898e-22,\n",
       "        1.32348898e-23,  1.32348898e-23,  2.64697796e-23,  3.97046694e-23,\n",
       "        9.92616735e-24, -1.32348898e-23,  1.48892510e-23, -8.27180613e-24,\n",
       "       -8.27180613e-25, -8.27180613e-25,  3.72231276e-24,  0.00000000e+00,\n",
       "        4.13590306e-25, -2.06795153e-25,  0.00000000e+00, -3.10192730e-25,\n",
       "        0.00000000e+00, -2.58493941e-25,  2.06795153e-25, -2.58493941e-26,\n",
       "        3.87740912e-26, -2.58493941e-26, -1.29246971e-26,  6.46234854e-27,\n",
       "        3.23117427e-27,  9.69352280e-27,  3.23117427e-27,  8.07793567e-28,\n",
       "       -2.42338070e-27, -2.01948392e-27,  4.03896783e-28,  0.00000000e+00,\n",
       "       -4.03896783e-28,  4.03896783e-28,  6.05845175e-28, -1.51461294e-28,\n",
       "        2.52435490e-28, -1.26217745e-28,  0.00000000e+00, -3.78653235e-29,\n",
       "       -3.15544362e-29,  2.52435490e-29,  0.00000000e+00,  1.57772181e-29,\n",
       "       -1.57772181e-30])"
      ]
     },
     "execution_count": 594,
     "metadata": {},
     "output_type": "execute_result"
    }
   ],
   "source": [
    "np.diff(p)/np.diff(r)+(M*rho/r**2)[:-1]"
   ]
  },
  {
   "cell_type": "code",
   "execution_count": 590,
   "metadata": {},
   "outputs": [
    {
     "data": {
      "image/png": "[encoded data removed]",
      "text/plain": [
       "<Figure size 1080x360 with 3 Axes>"
      ]
     },
     "metadata": {
      "needs_background": "light"
     },
     "output_type": "display_data"
    }
   ],
   "source": [
    "fig, axarr = plt.subplots(1, 3, figsize=(15,5))\n",
    "\n",
    "axarr[0].loglog()\n",
    "axarr[0].plot(r,rho_NFW(r))\n",
    "axarr[0].set_xlabel(r'Radius, $r/r_s$')\n",
    "axarr[0].set_ylabel(r'Density, $\\rho/\\rho_s$')\n",
    "axarr[0].set_title('Initial NFW Density')\n",
    "\n",
    "axarr[1].loglog()\n",
    "axarr[1].plot(r,nu, label='numeric')#label=r'$t=\\epsilon$')\n",
    "axarr[1].plot(r,nu_init(r,switch=False), label='Analytic')#label=r'$t=0$')\n",
    "# axarr[1].plot(r[:20],np.sqrt(4*(r*np.log(1/r))[:20]))\n",
    "axarr[1].set_xlabel(r'Radius, $r/r_s$')\n",
    "axarr[1].set_ylabel(r'Velocity Dispersion, $\\nu/\\nu_0$')\n",
    "# axarr[1].set_title('Energy Loss')\n",
    "axarr[1].set_title(r'Numerical vs. Analytic')\n",
    "axarr[1].legend()\n",
    "\n",
    "axarr[2].loglog()\n",
    "axarr[2].plot(r,j_init(r))\n",
    "axarr[2].set_xlabel(r'Radius, $r/r_s$')\n",
    "axarr[2].set_ylabel(r'Angular Momentum, $j/j_s$')\n",
    "axarr[2].set_title('Initial $L_z$ Distribution, z=0', fontsize=20)\n",
    "\n",
    "plt.subplots_adjust(#top=0.92, bottom=0.08, left=0.10, right=0.95, hspace=0.25,\n",
    "                    wspace=0.3)"
   ]
  },
  {
   "cell_type": "code",
   "execution_count": 538,
   "metadata": {},
   "outputs": [
    {
     "data": {
      "text/plain": [
       "array([ 1.00000000e+00, -1.01845470e+01,  1.09331463e+02, -1.10474194e+03,\n",
       "        1.06219545e+04, -9.70492364e+04,  8.42493526e+05, -6.94722508e+06,\n",
       "        5.44017742e+07, -4.04440022e+08,  2.85373516e+09, -1.91058884e+10,\n",
       "        1.21335181e+11, -7.30702053e+11,  4.17150040e+12, -2.25685137e+13,\n",
       "        1.15672096e+14, -5.61463237e+14,  2.58005487e+15, -1.12200528e+16,\n",
       "        4.61591886e+16, -1.79577993e+17,  6.60403614e+17, -2.29483816e+18,\n",
       "        7.53183887e+18, -2.33384165e+19,  6.82453681e+19, -1.88239732e+20,\n",
       "        4.89536876e+20, -1.19974773e+21,  2.76958016e+21, -6.01923234e+21,\n",
       "        1.23097632e+22, -2.36762279e+22,  4.28052342e+22, -7.27050614e+22,\n",
       "        1.15950386e+23, -1.73528367e+23,  2.43559481e+23, -3.20417401e+23,\n",
       "        3.94855879e+23, -4.55514708e+23,  4.91623100e+23, -4.96075941e+23,\n",
       "        4.67697750e+23, -4.11712779e+23,  3.38175229e+23, -2.59006110e+23,\n",
       "        1.84840701e+23, -1.22828661e+23,  7.59465941e+22, -4.36628908e+22,\n",
       "        2.33237791e+22, -1.15678367e+22,  5.32298212e+21, -2.27085295e+21,\n",
       "        8.97500675e+20, -3.28376802e+20,  1.11143011e+20, -3.47731728e+19,\n",
       "        1.00494019e+19, -2.68072544e+18,  6.59575913e+17, -1.49576619e+17,\n",
       "        3.12419164e+16, -6.00589840e+15,  1.06188902e+15, -1.72559565e+14,\n",
       "        2.57548725e+13, -3.52814144e+12,  4.43311351e+11, -5.10578613e+10,\n",
       "        5.38674816e+09, -5.20265880e+08,  4.59714393e+07, -3.71406507e+06,\n",
       "        2.74189915e+05, -1.84847157e+04,  1.13845199e+03, -6.29038793e+01,\n",
       "        4.21917412e+00,  8.03248969e-01,  9.65885742e-01,  9.62658910e-01,\n",
       "        9.66139443e-01,  9.69096163e-01,  9.71823538e-01,  9.74328247e-01,\n",
       "        9.76626225e-01,  9.78732341e-01,  9.80660710e-01,  9.82424678e-01,\n",
       "        9.84036818e-01,  9.85508947e-01,  9.86852139e-01,  9.88076744e-01,\n",
       "        9.89192416e-01,  9.90208136e-01,  9.91132246e-01,  9.91972480e-01,\n",
       "        9.92735990e-01,  9.93429385e-01,  9.94058761e-01,  9.94629731e-01,\n",
       "        9.95147458e-01,  9.95616685e-01,  9.96041762e-01,  9.96426679e-01,\n",
       "        9.96775085e-01,  9.97090319e-01,  9.97375432e-01,  9.97633209e-01,\n",
       "        9.97866190e-01,  9.98076691e-01,  9.98266820e-01,  9.98438498e-01,\n",
       "        9.98593468e-01,  9.98733320e-01,  9.98859493e-01,  9.98973296e-01,\n",
       "        9.99075919e-01,  9.99168436e-01,  9.99251826e-01,  9.99326974e-01,\n",
       "        9.99394680e-01,  9.99455672e-01,  9.99510606e-01,  9.99560077e-01,\n",
       "        9.99604623e-01,  9.99644732e-01,  9.99680844e-01,  9.99713358e-01,\n",
       "        9.99742634e-01,  9.99769000e-01,  9.99792752e-01,  9.99814157e-01,\n",
       "        9.99833461e-01,  9.99850886e-01,  9.99866634e-01,  9.99880893e-01,\n",
       "        9.99893836e-01,  9.99905624e-01,  9.99916411e-01,  9.99926347e-01,\n",
       "        9.99935583e-01,  9.99944280e-01,  9.99952626e-01,  9.99960872e-01,\n",
       "        9.99969427e-01,  9.99979239e-01])"
      ]
     },
     "execution_count": 538,
     "metadata": {},
     "output_type": "execute_result"
    }
   ],
   "source": [
    "from scipy.sparse import diags\n",
    "from scipy.sparse.linalg import spsolve\n",
    "from scipy.sparse import csc_matrix\n",
    "\n",
    "diagonals = [r, nu[:-1]]\n",
    "tmp = csc_matrix(diags(diagonals, [0, -1]))\n",
    "spsolve(tmp,r)"
   ]
  },
  {
   "cell_type": "code",
   "execution_count": 540,
   "metadata": {},
   "outputs": [
    {
     "data": {
      "text/plain": [
       "142.97520110264264"
      ]
     },
     "execution_count": 540,
     "metadata": {},
     "output_type": "execute_result"
    }
   ],
   "source": [
    "rho[0]*nu[0]**2/r[0]"
   ]
  },
  {
   "cell_type": "code",
   "execution_count": 545,
   "metadata": {},
   "outputs": [
    {
     "data": {
      "text/plain": [
       "-19.90671492353956"
      ]
     },
     "execution_count": 545,
     "metadata": {},
     "output_type": "execute_result"
    }
   ],
   "source": [
    "dpdr[10]"
   ]
  },
  {
   "cell_type": "code",
   "execution_count": 523,
   "metadata": {
    "collapsed": true
   },
   "outputs": [
    {
     "name": "stdout",
     "output_type": "stream",
     "text": [
      "[-2.98427949e-13 -1.13686838e-13  4.97379915e-14 -2.55795385e-13\n",
      " -2.48689958e-13  1.52766688e-13 -2.48689958e-14  2.27373675e-13\n",
      " -2.09610107e-13 -1.66977543e-13 -5.68434189e-14  3.55271368e-14\n",
      " -2.13162821e-14  1.77635684e-14  4.79616347e-14  1.42108547e-14\n",
      " -2.84217094e-14  1.06581410e-14 -4.44089210e-14 -1.77635684e-14\n",
      "  5.68434189e-14 -4.52970994e-14  2.84217094e-14  2.66453526e-15\n",
      " -6.21724894e-15  0.00000000e+00  7.10542736e-15  8.88178420e-16\n",
      "  2.13162821e-14  3.55271368e-15  1.77635684e-15  4.44089210e-15\n",
      " -3.10862447e-15  0.00000000e+00 -6.66133815e-15 -3.77475828e-15\n",
      " -1.33226763e-15 -5.55111512e-15  2.44249065e-15  4.44089210e-16\n",
      " -4.44089210e-16 -2.22044605e-15 -1.33226763e-15  1.77635684e-15\n",
      "  1.33226763e-15  2.22044605e-16  4.44089210e-16 -6.66133815e-16\n",
      " -5.55111512e-17 -8.32667268e-16  4.44089210e-16  3.88578059e-16\n",
      " -1.38777878e-16  0.00000000e+00 -8.32667268e-17 -5.55111512e-17\n",
      "  4.16333634e-17  5.55111512e-17 -1.38777878e-17 -6.24500451e-17\n",
      "  0.00000000e+00 -4.16333634e-17  1.04083409e-17  6.93889390e-18\n",
      " -1.73472348e-17 -2.08166817e-17  1.21430643e-17 -1.12757026e-17\n",
      "  0.00000000e+00  5.20417043e-18 -1.73472348e-18 -4.33680869e-18\n",
      "  2.16840434e-18  2.38524478e-18 -1.51788304e-18  1.08420217e-19\n",
      " -4.33680869e-19  0.00000000e+00 -5.42101086e-20 -1.08420217e-19\n",
      " -1.35525272e-19  2.71050543e-20  0.00000000e+00  8.13151629e-20\n",
      " -1.35525272e-20 -4.74338450e-20  1.35525272e-20 -2.03287907e-20\n",
      " -2.37169225e-20 -6.77626358e-21  1.69406589e-21  8.47032947e-21\n",
      "  3.38813179e-21  2.54109884e-21 -8.47032947e-22 -2.11758237e-22\n",
      " -2.11758237e-22  4.23516474e-22  6.35274710e-22 -5.29395592e-23\n",
      "  2.11758237e-22  5.29395592e-23  7.94093388e-23 -6.61744490e-23\n",
      " -1.32348898e-23 -2.64697796e-23 -2.64697796e-23 -9.92616735e-24\n",
      "  1.65436123e-23  9.92616735e-24 -3.30872245e-24 -4.13590306e-24\n",
      "  8.27180613e-25  2.06795153e-24  0.00000000e+00 -1.44756607e-24\n",
      "  2.06795153e-25  3.10192730e-25  2.06795153e-25  1.03397577e-25\n",
      "  1.55096365e-25 -1.29246971e-25 -5.16987883e-26  0.00000000e+00\n",
      "  6.46234854e-27 -1.29246971e-26 -1.29246971e-26 -6.46234854e-27\n",
      " -1.61558713e-27  0.00000000e+00 -1.61558713e-27  6.46234854e-27\n",
      "  2.42338070e-27  1.21169035e-27 -1.61558713e-27  6.05845175e-28\n",
      " -1.00974196e-28  1.00974196e-28  1.00974196e-28 -2.52435490e-28\n",
      "  5.04870979e-29  2.52435490e-29 -5.04870979e-29 -4.41762107e-29\n",
      " -6.31088724e-30  1.26217745e-29 -3.15544362e-30 -4.73316543e-30\n",
      "  0.00000000e+00]\n"
     ]
    }
   ],
   "source": [
    "dpdr=np.diff(rho*nu**2)/np.diff(r)\n",
    "print(dpdr+(M*rho/r**2)[1:])"
   ]
  },
  {
   "cell_type": "code",
   "execution_count": null,
   "metadata": {},
   "outputs": [],
   "source": [
    "def hydrostatic_eq(r,nu,rho,M):\n",
    "    return 0 "
   ]
  },
  {
   "cell_type": "markdown",
   "metadata": {},
   "source": [
    "# Something Else"
   ]
  },
  {
   "cell_type": "code",
   "execution_count": 61,
   "metadata": {
    "collapsed": true
   },
   "outputs": [
    {
     "data": {
      "application/vnd.jupyter.widget-view+json": {
       "model_id": "2e9673d69eb24c049d6309fb9b1939d8",
       "version_major": 2,
       "version_minor": 0
      },
      "text/plain": [
       "HBox(children=(IntProgress(value=0, max=552), HTML(value='')))"
      ]
     },
     "metadata": {},
     "output_type": "display_data"
    },
    {
     "name": "stdout",
     "output_type": "stream",
     "text": [
      "1 1 1 [False  True]\n",
      "0 0 0 [ True  True]\n"
     ]
    },
    {
     "ename": "IndexError",
     "evalue": "index -1 is out of bounds for axis 0 with size 0",
     "output_type": "error",
     "traceback": [
      "\u001b[0;31m---------------------------------------------------------------------------\u001b[0m",
      "\u001b[0;31mIndexError\u001b[0m                                Traceback (most recent call last)",
      "\u001b[0;32m<ipython-input-61-2a947ca1bce2>\u001b[0m in \u001b[0;36m<module>\u001b[0;34m\u001b[0m\n\u001b[1;32m     26\u001b[0m     \u001b[0mDM_process\u001b[0m\u001b[0;34m=\u001b[0m\u001b[0;34m'decay'\u001b[0m\u001b[0;34m,\u001b[0m \u001b[0mmDM\u001b[0m\u001b[0;34m=\u001b[0m\u001b[0;36m2e4\u001b[0m\u001b[0;34m,\u001b[0m \u001b[0mlifetime\u001b[0m\u001b[0;34m=\u001b[0m\u001b[0;36m1e24\u001b[0m\u001b[0;34m,\u001b[0m \u001b[0mprimary\u001b[0m\u001b[0;34m=\u001b[0m\u001b[0;34m'phot_delta'\u001b[0m\u001b[0;34m,\u001b[0m\u001b[0;34m\u001b[0m\u001b[0;34m\u001b[0m\u001b[0m\n\u001b[1;32m     27\u001b[0m     \u001b[0mreion_switch\u001b[0m \u001b[0;34m=\u001b[0m \u001b[0;32mTrue\u001b[0m\u001b[0;34m,\u001b[0m \u001b[0mreion_rs\u001b[0m \u001b[0;34m=\u001b[0m \u001b[0;36m7\u001b[0m\u001b[0;34m,\u001b[0m \u001b[0mxe_reion_func\u001b[0m\u001b[0;34m=\u001b[0m\u001b[0mfunc\u001b[0m\u001b[0;34m,\u001b[0m\u001b[0;34m\u001b[0m\u001b[0;34m\u001b[0m\u001b[0m\n\u001b[0;32m---> 28\u001b[0;31m     \u001b[0mbackreaction\u001b[0m\u001b[0;34m=\u001b[0m\u001b[0;32mFalse\u001b[0m\u001b[0;34m,\u001b[0m \u001b[0mcompute_fs_method\u001b[0m\u001b[0;34m=\u001b[0m\u001b[0;34m'He'\u001b[0m\u001b[0;34m\u001b[0m\u001b[0;34m\u001b[0m\u001b[0m\n\u001b[0m\u001b[1;32m     29\u001b[0m )\n",
      "\u001b[0;32m~/GitHub/DarkHistory/main.py\u001b[0m in \u001b[0;36mevolve\u001b[0;34m(in_spec_elec, in_spec_phot, rate_func_N, rate_func_eng, DM_process, mDM, sigmav, lifetime, primary, struct_boost, start_rs, end_rs, helium_TLA, reion_switch, reion_rs, photoion_rate_func, photoheat_rate_func, xe_reion_func, init_cond, coarsen_factor, backreaction, compute_fs_method, mxstep, rtol, use_tqdm, cross_check)\u001b[0m\n\u001b[1;32m    580\u001b[0m             \u001b[0mphotoheat_rate_func\u001b[0m\u001b[0;34m=\u001b[0m\u001b[0mphotoheat_rate_func\u001b[0m\u001b[0;34m,\u001b[0m\u001b[0;34m\u001b[0m\u001b[0;34m\u001b[0m\u001b[0m\n\u001b[1;32m    581\u001b[0m             \u001b[0mxe_reion_func\u001b[0m\u001b[0;34m=\u001b[0m\u001b[0mxe_reion_func\u001b[0m\u001b[0;34m,\u001b[0m \u001b[0mhelium_TLA\u001b[0m\u001b[0;34m=\u001b[0m\u001b[0mhelium_TLA\u001b[0m\u001b[0;34m,\u001b[0m\u001b[0;34m\u001b[0m\u001b[0;34m\u001b[0m\u001b[0m\n\u001b[0;32m--> 582\u001b[0;31m             \u001b[0mf_He_ion\u001b[0m\u001b[0;34m=\u001b[0m\u001b[0mf_He_ion\u001b[0m\u001b[0;34m,\u001b[0m \u001b[0mmxstep\u001b[0m\u001b[0;34m=\u001b[0m\u001b[0mmxstep\u001b[0m\u001b[0;34m,\u001b[0m \u001b[0mrtol\u001b[0m\u001b[0;34m=\u001b[0m\u001b[0mrtol\u001b[0m\u001b[0;34m\u001b[0m\u001b[0;34m\u001b[0m\u001b[0m\n\u001b[0m\u001b[1;32m    583\u001b[0m         )\n\u001b[1;32m    584\u001b[0m \u001b[0;34m\u001b[0m\u001b[0m\n",
      "\u001b[0;32m~/GitHub/DarkHistory/darkhistory/history/tla.py\u001b[0m in \u001b[0;36mget_history\u001b[0;34m(rs_vec, init_cond, baseline_f, inj_particle, f_H_ion, f_H_exc, f_heating, DM_process, mDM, sigmav, lifetime, struct_boost, injection_rate, reion_switch, reion_rs, photoion_rate_func, photoheat_rate_func, xe_reion_func, helium_TLA, f_He_ion, mxstep, rtol)\u001b[0m\n\u001b[1;32m    723\u001b[0m             \u001b[0;31m# Append the last redshift before reionization model.\u001b[0m\u001b[0;34m\u001b[0m\u001b[0;34m\u001b[0m\u001b[0;34m\u001b[0m\u001b[0m\n\u001b[1;32m    724\u001b[0m             rs_above_std_xe_vec = np.insert(\n\u001b[0;32m--> 725\u001b[0;31m                 \u001b[0mrs_above_std_xe_vec\u001b[0m\u001b[0;34m,\u001b[0m \u001b[0;36m0\u001b[0m\u001b[0;34m,\u001b[0m \u001b[0mrs_below_std_xe_vec\u001b[0m\u001b[0;34m[\u001b[0m\u001b[0;34m-\u001b[0m\u001b[0;36m1\u001b[0m\u001b[0;34m]\u001b[0m\u001b[0;34m\u001b[0m\u001b[0;34m\u001b[0m\u001b[0m\n\u001b[0m\u001b[1;32m    726\u001b[0m             )\n\u001b[1;32m    727\u001b[0m \u001b[0;34m\u001b[0m\u001b[0m\n",
      "\u001b[0;31mIndexError\u001b[0m: index -1 is out of bounds for axis 0 with size 0"
     ]
    }
   ],
   "source": [
    "%autoreload\n",
    "\n",
    "rs_vec = np.flipud(np.arange(5, 3000, 1))\n",
    "\n",
    "def func(rs):\n",
    "    \n",
    "    if isinstance(rs, np.ndarray):\n",
    "    \n",
    "        xe_to_return = np.zeros_like(rs)\n",
    "        xe_to_return[np.where(rs < 7)] = 1\n",
    "\n",
    "        return xe_to_return\n",
    "    \n",
    "    else:\n",
    "        \n",
    "        if rs > 7:\n",
    "            \n",
    "            return 0\n",
    "        \n",
    "        else:\n",
    "            \n",
    "            return 1.\n",
    "\n",
    "test2 = main.evolve(\n",
    "    start_rs=3000, coarsen_factor=12,\n",
    "    DM_process='decay', mDM=2e4, lifetime=1e24, primary='phot_delta',\n",
    "    reion_switch = True, reion_rs = 7, xe_reion_func=func,\n",
    "    backreaction=False, compute_fs_method='He'\n",
    ")"
   ]
  },
  {
   "cell_type": "code",
   "execution_count": 51,
   "metadata": {},
   "outputs": [
    {
     "data": {
      "text/plain": [
       "[<matplotlib.lines.Line2D at 0x181dc76908>]"
      ]
     },
     "execution_count": 51,
     "metadata": {},
     "output_type": "execute_result"
    },
    {
     "data": {
      "image/png": "[encoded data removed]",
      "text/plain": [
       "<Figure size 432x288 with 1 Axes>"
      ]
     },
     "metadata": {
      "needs_background": "light"
     },
     "output_type": "display_data"
    }
   ],
   "source": [
    "plt.figure()\n",
    "\n",
    "plt.loglog()\n",
    "\n",
    "plt.plot(rs_vec, test2[:,0]/phys.kB)"
   ]
  },
  {
   "cell_type": "code",
   "execution_count": 53,
   "metadata": {},
   "outputs": [],
   "source": [
    "?main.evolve"
   ]
  },
  {
   "cell_type": "code",
   "execution_count": 24,
   "metadata": {},
   "outputs": [
    {
     "data": {
      "text/plain": [
       "array([[7.04232739e-01, 9.99999999e-01, 9.99998695e-13, 9.99998695e-13],\n",
       "       [7.04126271e-01, 9.99999999e-01, 9.99998695e-13, 9.99998695e-13],\n",
       "       [7.03891275e-01, 9.99999999e-01, 9.99998695e-13, 9.99998695e-13],\n",
       "       ...,\n",
       "       [9.04744350e-05, 1.90694083e-04, 9.99998695e-13, 9.99998695e-13],\n",
       "       [6.65100843e-05, 1.88570323e-04, 9.99998695e-13, 9.99998695e-13],\n",
       "       [4.62064135e-05, 1.86229989e-04, 9.99998695e-13, 9.99998695e-13]])"
      ]
     },
     "execution_count": 24,
     "metadata": {},
     "output_type": "execute_result"
    }
   ],
   "source": [
    "test"
   ]
  },
  {
   "cell_type": "code",
   "execution_count": null,
   "metadata": {},
   "outputs": [],
   "source": []
  }
 ],
 "metadata": {
  "kernelspec": {
   "display_name": "Python 3",
   "language": "python",
   "name": "python3"
  },
  "language_info": {
   "codemirror_mode": {
    "name": "ipython",
    "version": 3
   },
   "file_extension": ".py",
   "mimetype": "text/x-python",
   "name": "python",
   "nbconvert_exporter": "python",
   "pygments_lexer": "ipython3",
   "version": "3.7.5"
  },
  "toc": {
   "base_numbering": 1,
   "nav_menu": {},
   "number_sections": true,
   "sideBar": true,
   "skip_h1_title": false,
   "title_cell": "Table of Contents",
   "title_sidebar": "Contents",
   "toc_cell": false,
   "toc_position": {},
   "toc_section_display": true,
   "toc_window_display": false
  }
 },
 "nbformat": 4,
 "nbformat_minor": 2
}
